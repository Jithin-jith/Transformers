{
  "cells": [
    {
      "cell_type": "markdown",
      "metadata": {
        "id": "uBrPnCqAFQNv"
      },
      "source": [
        "# Multi-Class Sentiment Recognition for Twitter Tweets using HuggingFace Transformers"
      ]
    },
    {
      "cell_type": "code",
      "execution_count": 36,
      "metadata": {},
      "outputs": [],
      "source": [
        "import pandas as pd\n",
        "import matplotlib.pyplot as plt\n",
        "from transformers import AutoTokenizer\n",
        "import numpy as np\n",
        "from transformers import AutoModel \n",
        "import torch\n",
        "from transformers import AutoModelForSequenceClassification, AutoConfig\n",
        "from transformers import TrainingArguments\n",
        "import evaluate\n",
        "from sklearn.metrics import accuracy_score, f1_score\n",
        "from transformers import Trainer\n",
        "from sklearn.metrics import classification_report\n",
        "import seaborn as sns\n",
        "from sklearn.metrics import confusion_matrix\n",
        "from transformers import pipeline  "
      ]
    },
    {
      "cell_type": "code",
      "execution_count": 2,
      "metadata": {
        "id": "xrbsJ9W5tlsY"
      },
      "outputs": [
        {
          "data": {
            "text/html": [
              "<div>\n",
              "<style scoped>\n",
              "    .dataframe tbody tr th:only-of-type {\n",
              "        vertical-align: middle;\n",
              "    }\n",
              "\n",
              "    .dataframe tbody tr th {\n",
              "        vertical-align: top;\n",
              "    }\n",
              "\n",
              "    .dataframe thead th {\n",
              "        text-align: right;\n",
              "    }\n",
              "</style>\n",
              "<table border=\"1\" class=\"dataframe\">\n",
              "  <thead>\n",
              "    <tr style=\"text-align: right;\">\n",
              "      <th></th>\n",
              "      <th>text</th>\n",
              "      <th>label</th>\n",
              "      <th>label_name</th>\n",
              "    </tr>\n",
              "  </thead>\n",
              "  <tbody>\n",
              "    <tr>\n",
              "      <th>0</th>\n",
              "      <td>i didnt feel humiliated</td>\n",
              "      <td>0</td>\n",
              "      <td>sadness</td>\n",
              "    </tr>\n",
              "    <tr>\n",
              "      <th>1</th>\n",
              "      <td>i can go from feeling so hopeless to so damned...</td>\n",
              "      <td>0</td>\n",
              "      <td>sadness</td>\n",
              "    </tr>\n",
              "    <tr>\n",
              "      <th>2</th>\n",
              "      <td>im grabbing a minute to post i feel greedy wrong</td>\n",
              "      <td>3</td>\n",
              "      <td>anger</td>\n",
              "    </tr>\n",
              "    <tr>\n",
              "      <th>3</th>\n",
              "      <td>i am ever feeling nostalgic about the fireplac...</td>\n",
              "      <td>2</td>\n",
              "      <td>love</td>\n",
              "    </tr>\n",
              "    <tr>\n",
              "      <th>4</th>\n",
              "      <td>i am feeling grouchy</td>\n",
              "      <td>3</td>\n",
              "      <td>anger</td>\n",
              "    </tr>\n",
              "  </tbody>\n",
              "</table>\n",
              "</div>"
            ],
            "text/plain": [
              "                                                text  label label_name\n",
              "0                            i didnt feel humiliated      0    sadness\n",
              "1  i can go from feeling so hopeless to so damned...      0    sadness\n",
              "2   im grabbing a minute to post i feel greedy wrong      3      anger\n",
              "3  i am ever feeling nostalgic about the fireplac...      2       love\n",
              "4                               i am feeling grouchy      3      anger"
            ]
          },
          "execution_count": 2,
          "metadata": {},
          "output_type": "execute_result"
        }
      ],
      "source": [
        "df = pd.read_csv(\"https://raw.githubusercontent.com/laxmimerit/All-CSV-ML-Data-Files-Download/master/twitter_multi_class_sentiment.csv\")\n",
        "df.head()"
      ]
    },
    {
      "cell_type": "code",
      "execution_count": 3,
      "metadata": {
        "colab": {
          "base_uri": "https://localhost:8080/",
          "height": 206
        },
        "id": "1F7kUABkHkj1",
        "outputId": "e7667d98-1929-4a6d-a60d-c0c34500b248"
      },
      "outputs": [
        {
          "name": "stdout",
          "output_type": "stream",
          "text": [
            "<class 'pandas.core.frame.DataFrame'>\n",
            "RangeIndex: 16000 entries, 0 to 15999\n",
            "Data columns (total 3 columns):\n",
            " #   Column      Non-Null Count  Dtype \n",
            "---  ------      --------------  ----- \n",
            " 0   text        16000 non-null  object\n",
            " 1   label       16000 non-null  int64 \n",
            " 2   label_name  16000 non-null  object\n",
            "dtypes: int64(1), object(2)\n",
            "memory usage: 375.1+ KB\n"
          ]
        },
        {
          "data": {
            "text/plain": [
              "text          0\n",
              "label         0\n",
              "label_name    0\n",
              "dtype: int64"
            ]
          },
          "execution_count": 3,
          "metadata": {},
          "output_type": "execute_result"
        }
      ],
      "source": [
        "df.info()\n",
        "df.isnull().sum()"
      ]
    },
    {
      "cell_type": "code",
      "execution_count": 4,
      "metadata": {},
      "outputs": [
        {
          "data": {
            "text/plain": [
              "label\n",
              "1    5362\n",
              "0    4666\n",
              "3    2159\n",
              "4    1937\n",
              "2    1304\n",
              "5     572\n",
              "Name: count, dtype: int64"
            ]
          },
          "execution_count": 4,
          "metadata": {},
          "output_type": "execute_result"
        }
      ],
      "source": [
        "df['label'].value_counts()"
      ]
    },
    {
      "cell_type": "markdown",
      "metadata": {
        "id": "xD5LhDhnQRgU"
      },
      "source": [
        "## Dataset Analysis"
      ]
    },
    {
      "cell_type": "code",
      "execution_count": 5,
      "metadata": {
        "colab": {
          "base_uri": "https://localhost:8080/",
          "height": 452
        },
        "id": "GzFPtGPQtsXq",
        "outputId": "95963253-95fc-4454-86c9-38ce9b305de2"
      },
      "outputs": [
        {
          "data": {
            "image/png": "[encoded data removed]",
            "text/plain": [
              "<Figure size 640x480 with 1 Axes>"
            ]
          },
          "metadata": {},
          "output_type": "display_data"
        }
      ],
      "source": [
        "label_counts = df['label_name'].value_counts(ascending=True)\n",
        "label_counts.plot.barh()\n",
        "plt.title(\"Frequency of Classes\")\n",
        "plt.show()"
      ]
    },
    {
      "cell_type": "code",
      "execution_count": 6,
      "metadata": {},
      "outputs": [
        {
          "data": {
            "image/png": "[encoded data removed]",
            "text/plain": [
              "<Figure size 640x480 with 1 Axes>"
            ]
          },
          "metadata": {},
          "output_type": "display_data"
        }
      ],
      "source": [
        "df['Words per Tweet'] = df['text'].str.split().apply(len)\n",
        "df.boxplot(\"Words per Tweet\", by=\"label_name\")\n",
        "plt.show()"
      ]
    },
    {
      "cell_type": "code",
      "execution_count": 7,
      "metadata": {
        "colab": {
          "base_uri": "https://localhost:8080/"
        },
        "id": "UYcWNaQuttZi",
        "outputId": "a615e7d6-d0a1-4e41-9821-c9bbd93b51cd"
      },
      "outputs": [
        {
          "name": "stdout",
          "output_type": "stream",
          "text": [
            "[CLS]           --> 101\n",
            "i               --> 1045\n",
            "love            --> 2293\n",
            "machine         --> 3698\n",
            "learning        --> 4083\n",
            "!               --> 999\n",
            "token           --> 19204\n",
            "##ization       --> 3989\n",
            "is              --> 2003\n",
            "awesome         --> 12476\n",
            "!               --> 999\n",
            "!               --> 999\n",
            "[SEP]           --> 102\n"
          ]
        }
      ],
      "source": [
        "model_ckpt = \"bert-base-uncased\"\n",
        "tokenizer = AutoTokenizer.from_pretrained(model_ckpt)\n",
        "\n",
        "text = \"I love machine learning! Tokenization is awesome!!\"\n",
        "encoded_text = tokenizer(text)\n",
        "\n",
        "# Get token ids\n",
        "input_ids = encoded_text[\"input_ids\"]\n",
        "\n",
        "# Convert ids to tokens\n",
        "tokens = tokenizer.convert_ids_to_tokens(input_ids)\n",
        "\n",
        "# Show tokens with their IDs\n",
        "for token, token_id in zip(tokens, input_ids):\n",
        "    print(f\"{token:<15} --> {token_id}\")\n"
      ]
    },
    {
      "cell_type": "code",
      "execution_count": 8,
      "metadata": {
        "colab": {
          "base_uri": "https://localhost:8080/"
        },
        "id": "gY8solyivXr6",
        "outputId": "9c0c6849-e747-4151-b3e3-b3cfe7f4163a"
      },
      "outputs": [
        {
          "name": "stdout",
          "output_type": "stream",
          "text": [
            "Vocabulary size of the tokenizer : 30522\n",
            "Maximum sequence length this model supports : 512\n"
          ]
        }
      ],
      "source": [
        "# Get the vocabulary size directly\n",
        "vocab_size = tokenizer.vocab_size\n",
        "\n",
        "# Get the maximum sequence length this model supports\n",
        "max_length = tokenizer.model_max_length\n",
        "\n",
        "# Print all values together for comparison\n",
        "print(f'Vocabulary size of the tokenizer : {vocab_size}')\n",
        "print(f'Maximum sequence length this model supports : {max_length}')\n"
      ]
    },
    {
      "cell_type": "markdown",
      "metadata": {
        "id": "jS8mXm9uTBNG"
      },
      "source": [
        "## Data Loader and Train Test Split"
      ]
    },
    {
      "cell_type": "code",
      "execution_count": 9,
      "metadata": {
        "id": "cfv3iPEoCt_8"
      },
      "outputs": [
        {
          "name": "stdout",
          "output_type": "stream",
          "text": [
            "Full dataset shape: (16000, 4)\n",
            "                                                text  label label_name  \\\n",
            "0                            i didnt feel humiliated      0    sadness   \n",
            "1  i can go from feeling so hopeless to so damned...      0    sadness   \n",
            "2   im grabbing a minute to post i feel greedy wrong      3      anger   \n",
            "3  i am ever feeling nostalgic about the fireplac...      2       love   \n",
            "4                               i am feeling grouchy      3      anger   \n",
            "\n",
            "   Words per Tweet  \n",
            "0                4  \n",
            "1               21  \n",
            "2               10  \n",
            "3               18  \n",
            "4                4  \n",
            "Train shape: (11200, 4)\n",
            "Test shape: (2400, 4)\n",
            "Validation shape: (2400, 4)\n"
          ]
        }
      ],
      "source": [
        "from sklearn.model_selection import train_test_split\n",
        "\n",
        "# Check the shape of the full dataset (rows, columns)\n",
        "print(\"Full dataset shape:\", df.shape)\n",
        "\n",
        "# Display the first few rows to get a quick look at the data\n",
        "print(df.head())\n",
        "\n",
        "# Split the dataset into:\n",
        "#  - 70% training data\n",
        "#  - 30% temporary data (to be further split into test + validation)\n",
        "train, temp = train_test_split(\n",
        "    df,\n",
        "    test_size=0.3,                      # 30% of the data goes into temp\n",
        "    stratify=df['label_name'],          # stratify ensures balanced class distribution\n",
        "    random_state=42                     # for reproducibility\n",
        ")\n",
        "\n",
        "# Split the temporary set into:\n",
        "#  - 50% test\n",
        "#  - 50% validation\n",
        "# (Since temp = 30% of full data → each becomes 15%)\n",
        "test, validation = train_test_split(\n",
        "    temp,\n",
        "    test_size=0.5,                      # half of temp goes to validation\n",
        "    stratify=temp['label_name'],        # maintain class distribution\n",
        "    random_state=42\n",
        ")\n",
        "\n",
        "# Display the final shapes of each dataset\n",
        "print(\"Train shape:\", train.shape)\n",
        "print(\"Test shape:\", test.shape)\n",
        "print(\"Validation shape:\", validation.shape)\n"
      ]
    },
    {
      "cell_type": "code",
      "execution_count": 10,
      "metadata": {},
      "outputs": [
        {
          "name": "stdout",
          "output_type": "stream",
          "text": [
            "DatasetDict({\n",
            "    train: Dataset({\n",
            "        features: ['text', 'label', 'label_name', 'Words per Tweet'],\n",
            "        num_rows: 11200\n",
            "    })\n",
            "    test: Dataset({\n",
            "        features: ['text', 'label', 'label_name', 'Words per Tweet'],\n",
            "        num_rows: 2400\n",
            "    })\n",
            "    validation: Dataset({\n",
            "        features: ['text', 'label', 'label_name', 'Words per Tweet'],\n",
            "        num_rows: 2400\n",
            "    })\n",
            "})\n"
          ]
        }
      ],
      "source": [
        "from datasets import Dataset, DatasetDict\n",
        "\n",
        "# Convert pandas DataFrames (train, test, validation) into Hugging Face Dataset objects\n",
        "# `preserve_index=False` removes the old pandas index to avoid an extra column in the dataset\n",
        "dataset = DatasetDict({\n",
        "    'train': Dataset.from_pandas(train, preserve_index=False),        # Training split\n",
        "    'test': Dataset.from_pandas(test, preserve_index=False),          # Test split\n",
        "    'validation': Dataset.from_pandas(validation, preserve_index=False) # Validation split\n",
        "})\n",
        "\n",
        "# Display dataset information (splits, number of rows, features, etc.)\n",
        "print(dataset)"
      ]
    },
    {
      "cell_type": "markdown",
      "metadata": {
        "id": "6EWe8nkoCuVJ"
      },
      "source": [
        "## Tokenization of the Emotion/Sentiment Data"
      ]
    },
    {
      "cell_type": "code",
      "execution_count": 11,
      "metadata": {},
      "outputs": [
        {
          "name": "stdout",
          "output_type": "stream",
          "text": [
            "First training sample: {'text': 'i feel unhappy it is no help for me that other persons say that i am happy how much truth there may be in it', 'label': 0, 'label_name': 'sadness', 'Words per Tweet': 25}\n",
            "Second training sample: {'text': 'i was feeling brave when i bought it and clearly when i was doing my makeup', 'label': 1, 'label_name': 'joy', 'Words per Tweet': 16}\n"
          ]
        }
      ],
      "source": [
        "# Access the first training example (row 0)\n",
        "first_sample = dataset['train'][0]\n",
        "\n",
        "# Access the second training example (row 1)\n",
        "second_sample = dataset['train'][1]\n",
        "\n",
        "# Print them to inspect the structure (dict with feature: value)\n",
        "print(\"First training sample:\", first_sample)\n",
        "print(\"Second training sample:\", second_sample)"
      ]
    },
    {
      "cell_type": "code",
      "execution_count": 12,
      "metadata": {},
      "outputs": [
        {
          "name": "stdout",
          "output_type": "stream",
          "text": [
            "[101, 1045, 2514, 12511, 2009, 2003, 2053, 2393, 2005, 2033, 2008, 2060, 5381, 2360, 2008, 1045, 2572, 3407, 2129, 2172, 3606, 2045, 2089, 2022, 1999, 2009, 102]\n"
          ]
        }
      ],
      "source": [
        "# Define a function to tokenize a batch of text data\n",
        "def tokenize(batch):\n",
        "    # Tokenize the 'text' column from the dataset\n",
        "    # - padding=True → pad sequences to the same length in a batch\n",
        "    # - truncation=True → cut off sequences longer than model_max_length\n",
        "    tokenized_output = tokenizer(\n",
        "        batch['text'],\n",
        "        padding=True,\n",
        "        truncation=True\n",
        "    )\n",
        "    return tokenized_output\n",
        "\n",
        "# Tokenize the first 2 samples from the training dataset\n",
        "print(tokenize(dataset['train'][0])['input_ids'])\n"
      ]
    },
    {
      "cell_type": "code",
      "execution_count": 13,
      "metadata": {},
      "outputs": [
        {
          "name": "stderr",
          "output_type": "stream",
          "text": [
            "Map: 100%|██████████| 11200/11200 [00:00<00:00, 19161.70 examples/s]\n",
            "Map: 100%|██████████| 2400/2400 [00:00<00:00, 27529.06 examples/s]\n",
            "Map: 100%|██████████| 2400/2400 [00:00<00:00, 26931.23 examples/s]"
          ]
        },
        {
          "name": "stdout",
          "output_type": "stream",
          "text": [
            "DatasetDict({\n",
            "    train: Dataset({\n",
            "        features: ['text', 'label', 'label_name', 'Words per Tweet', 'input_ids', 'token_type_ids', 'attention_mask'],\n",
            "        num_rows: 11200\n",
            "    })\n",
            "    test: Dataset({\n",
            "        features: ['text', 'label', 'label_name', 'Words per Tweet', 'input_ids', 'token_type_ids', 'attention_mask'],\n",
            "        num_rows: 2400\n",
            "    })\n",
            "    validation: Dataset({\n",
            "        features: ['text', 'label', 'label_name', 'Words per Tweet', 'input_ids', 'token_type_ids', 'attention_mask'],\n",
            "        num_rows: 2400\n",
            "    })\n",
            "})\n"
          ]
        },
        {
          "name": "stderr",
          "output_type": "stream",
          "text": [
            "\n"
          ]
        }
      ],
      "source": [
        "# Apply the tokenize() function to the entire dataset\n",
        "# - batched=True → process multiple samples together for efficiency\n",
        "# - batch_size=None → let the tokenizer decide the batch size automatically\n",
        "# The result will add new columns like 'input_ids', 'attention_mask', etc.\n",
        "emotion_encoded = dataset.map(\n",
        "    tokenize,\n",
        "    batched=True,\n",
        "    batch_size=None\n",
        ")\n",
        "\n",
        "# Inspect the processed dataset\n",
        "print(emotion_encoded)\n"
      ]
    },
    {
      "cell_type": "code",
      "execution_count": 14,
      "metadata": {},
      "outputs": [
        {
          "name": "stdout",
          "output_type": "stream",
          "text": [
            "Label → ID mapping: {'sadness': 0, 'joy': 1, 'fear': 4, 'surprise': 5, 'anger': 3, 'love': 2}\n",
            "ID → Label mapping: {0: 'sadness', 1: 'joy', 4: 'fear', 5: 'surprise', 3: 'anger', 2: 'love'}\n"
          ]
        }
      ],
      "source": [
        "# Create a mapping from label name → label id\n",
        "# Example: {\"positive\": 0, \"negative\": 1, ...}\n",
        "label2id = {\n",
        "    sample['label_name']: sample['label']\n",
        "    for sample in dataset['train']\n",
        "}\n",
        "\n",
        "# Create the reverse mapping: label id → label name\n",
        "# Example: {0: \"positive\", 1: \"negative\", ...}\n",
        "id2label = {\n",
        "    v: k\n",
        "    for k, v in label2id.items()\n",
        "}\n",
        "\n",
        "# Print both dictionaries\n",
        "print(\"Label → ID mapping:\", label2id)\n",
        "print(\"ID → Label mapping:\", id2label)\n"
      ]
    },
    {
      "cell_type": "markdown",
      "metadata": {
        "id": "TBZXTI36SDB4"
      },
      "source": [
        "## Model Building"
      ]
    },
    {
      "cell_type": "code",
      "execution_count": 15,
      "metadata": {},
      "outputs": [
        {
          "name": "stdout",
          "output_type": "stream",
          "text": [
            "BertModel(\n",
            "  (embeddings): BertEmbeddings(\n",
            "    (word_embeddings): Embedding(30522, 768, padding_idx=0)\n",
            "    (position_embeddings): Embedding(512, 768)\n",
            "    (token_type_embeddings): Embedding(2, 768)\n",
            "    (LayerNorm): LayerNorm((768,), eps=1e-12, elementwise_affine=True)\n",
            "    (dropout): Dropout(p=0.1, inplace=False)\n",
            "  )\n",
            "  (encoder): BertEncoder(\n",
            "    (layer): ModuleList(\n",
            "      (0-11): 12 x BertLayer(\n",
            "        (attention): BertAttention(\n",
            "          (self): BertSdpaSelfAttention(\n",
            "            (query): Linear(in_features=768, out_features=768, bias=True)\n",
            "            (key): Linear(in_features=768, out_features=768, bias=True)\n",
            "            (value): Linear(in_features=768, out_features=768, bias=True)\n",
            "            (dropout): Dropout(p=0.1, inplace=False)\n",
            "          )\n",
            "          (output): BertSelfOutput(\n",
            "            (dense): Linear(in_features=768, out_features=768, bias=True)\n",
            "            (LayerNorm): LayerNorm((768,), eps=1e-12, elementwise_affine=True)\n",
            "            (dropout): Dropout(p=0.1, inplace=False)\n",
            "          )\n",
            "        )\n",
            "        (intermediate): BertIntermediate(\n",
            "          (dense): Linear(in_features=768, out_features=3072, bias=True)\n",
            "          (intermediate_act_fn): GELUActivation()\n",
            "        )\n",
            "        (output): BertOutput(\n",
            "          (dense): Linear(in_features=3072, out_features=768, bias=True)\n",
            "          (LayerNorm): LayerNorm((768,), eps=1e-12, elementwise_affine=True)\n",
            "          (dropout): Dropout(p=0.1, inplace=False)\n",
            "        )\n",
            "      )\n",
            "    )\n",
            "  )\n",
            "  (pooler): BertPooler(\n",
            "    (dense): Linear(in_features=768, out_features=768, bias=True)\n",
            "    (activation): Tanh()\n",
            "  )\n",
            ")\n"
          ]
        }
      ],
      "source": [
        "# Load a pretrained model from Hugging Face Hub\n",
        "# - model_ckpt should be a string like \"bert-base-uncased\"\n",
        "# - AutoModel loads only the base model (without any task-specific head)\n",
        "model = AutoModel.from_pretrained(model_ckpt)\n",
        "\n",
        "# Inspect the model architecture\n",
        "print(model)"
      ]
    },
    {
      "cell_type": "code",
      "execution_count": 16,
      "metadata": {},
      "outputs": [
        {
          "name": "stdout",
          "output_type": "stream",
          "text": [
            "ID to Label mapping: {0: 'LABEL_0', 1: 'LABEL_1'}\n",
            "Model configuration:\n",
            " BertConfig {\n",
            "  \"architectures\": [\n",
            "    \"BertForMaskedLM\"\n",
            "  ],\n",
            "  \"attention_probs_dropout_prob\": 0.1,\n",
            "  \"classifier_dropout\": null,\n",
            "  \"gradient_checkpointing\": false,\n",
            "  \"hidden_act\": \"gelu\",\n",
            "  \"hidden_dropout_prob\": 0.1,\n",
            "  \"hidden_size\": 768,\n",
            "  \"initializer_range\": 0.02,\n",
            "  \"intermediate_size\": 3072,\n",
            "  \"layer_norm_eps\": 1e-12,\n",
            "  \"max_position_embeddings\": 512,\n",
            "  \"model_type\": \"bert\",\n",
            "  \"num_attention_heads\": 12,\n",
            "  \"num_hidden_layers\": 12,\n",
            "  \"pad_token_id\": 0,\n",
            "  \"position_embedding_type\": \"absolute\",\n",
            "  \"torch_dtype\": \"float32\",\n",
            "  \"transformers_version\": \"4.55.3\",\n",
            "  \"type_vocab_size\": 2,\n",
            "  \"use_cache\": true,\n",
            "  \"vocab_size\": 30522\n",
            "}\n",
            "\n"
          ]
        }
      ],
      "source": [
        "# Get the mapping from label IDs → label names (if available in the model config)\n",
        "print(\"ID to Label mapping:\", model.config.id2label)\n",
        "\n",
        "# Print the full model configuration\n",
        "# This includes hidden size, number of layers, vocab size, max sequence length, etc.\n",
        "print(\"Model configuration:\\n\", model.config)"
      ]
    },
    {
      "cell_type": "markdown",
      "metadata": {
        "id": "pJC8r1FShkNU"
      },
      "source": [
        "## Fine-Tuning Transformers"
      ]
    },
    {
      "cell_type": "code",
      "execution_count": 17,
      "metadata": {
        "colab": {
          "base_uri": "https://localhost:8080/"
        },
        "id": "CeMp9-b9tzCe",
        "outputId": "7019bd1b-40e0-485a-dd77-905a019a0280"
      },
      "outputs": [
        {
          "name": "stdout",
          "output_type": "stream",
          "text": [
            "Number of labels: 6\n",
            "Using device: cuda\n"
          ]
        },
        {
          "name": "stderr",
          "output_type": "stream",
          "text": [
            "Some weights of BertForSequenceClassification were not initialized from the model checkpoint at bert-base-uncased and are newly initialized: ['classifier.bias', 'classifier.weight']\n",
            "You should probably TRAIN this model on a down-stream task to be able to use it for predictions and inference.\n"
          ]
        }
      ],
      "source": [
        "# Get the number of unique labels from your dataset\n",
        "num_labels = len(label2id)\n",
        "print(\"Number of labels:\", num_labels)\n",
        "\n",
        "# Set the device to GPU (if available) or fallback to CPU\n",
        "device = torch.device(\"cuda\" if torch.cuda.is_available() else \"cpu\")\n",
        "print(\"Using device:\", device)\n",
        "\n",
        "# Load model configuration with custom label mappings\n",
        "# - label2id: maps label names → ids\n",
        "# - id2label: maps ids → label names\n",
        "config = AutoConfig.from_pretrained(\n",
        "    model_ckpt,\n",
        "    label2id=label2id,\n",
        "    id2label=id2label,\n",
        "    num_labels=num_labels       # make sure config knows number of labels\n",
        ")\n",
        "\n",
        "# Load a pretrained model for sequence classification\n",
        "# - Uses your config (so model knows about your labels)\n",
        "# - Automatically adds a classification head on top of the base model\n",
        "model = AutoModelForSequenceClassification.from_pretrained(\n",
        "    model_ckpt,\n",
        "    config=config\n",
        ").to(device)   # Move model to GPU/CPU\n"
      ]
    },
    {
      "cell_type": "code",
      "execution_count": 18,
      "metadata": {},
      "outputs": [
        {
          "name": "stdout",
          "output_type": "stream",
          "text": [
            "BertConfig {\n",
            "  \"architectures\": [\n",
            "    \"BertForMaskedLM\"\n",
            "  ],\n",
            "  \"attention_probs_dropout_prob\": 0.1,\n",
            "  \"classifier_dropout\": null,\n",
            "  \"gradient_checkpointing\": false,\n",
            "  \"hidden_act\": \"gelu\",\n",
            "  \"hidden_dropout_prob\": 0.1,\n",
            "  \"hidden_size\": 768,\n",
            "  \"id2label\": {\n",
            "    \"0\": \"sadness\",\n",
            "    \"1\": \"joy\",\n",
            "    \"2\": \"love\",\n",
            "    \"3\": \"anger\",\n",
            "    \"4\": \"fear\",\n",
            "    \"5\": \"surprise\"\n",
            "  },\n",
            "  \"initializer_range\": 0.02,\n",
            "  \"intermediate_size\": 3072,\n",
            "  \"label2id\": {\n",
            "    \"anger\": 3,\n",
            "    \"fear\": 4,\n",
            "    \"joy\": 1,\n",
            "    \"love\": 2,\n",
            "    \"sadness\": 0,\n",
            "    \"surprise\": 5\n",
            "  },\n",
            "  \"layer_norm_eps\": 1e-12,\n",
            "  \"max_position_embeddings\": 512,\n",
            "  \"model_type\": \"bert\",\n",
            "  \"num_attention_heads\": 12,\n",
            "  \"num_hidden_layers\": 12,\n",
            "  \"pad_token_id\": 0,\n",
            "  \"position_embedding_type\": \"absolute\",\n",
            "  \"torch_dtype\": \"float32\",\n",
            "  \"transformers_version\": \"4.55.3\",\n",
            "  \"type_vocab_size\": 2,\n",
            "  \"use_cache\": true,\n",
            "  \"vocab_size\": 30522\n",
            "}\n",
            "\n"
          ]
        }
      ],
      "source": [
        "# Print the full configuration of the model\n",
        "# This shows hyperparameters like:\n",
        "# - hidden_size, num_attention_heads, num_hidden_layers\n",
        "# - vocab_size, max_position_embeddings\n",
        "# - num_labels (important for classification tasks)\n",
        "# - label2id / id2label mappings (your custom mappings)\n",
        "print(model.config)"
      ]
    },
    {
      "cell_type": "code",
      "execution_count": 19,
      "metadata": {},
      "outputs": [],
      "source": [
        "# Define batch size\n",
        "batch_size = 64\n",
        "\n",
        "# Directory where model checkpoints and logs will be saved\n",
        "training_dir = \"bert_base_train_dir\"\n",
        "\n",
        "# Define training arguments for the Trainer API\n",
        "training_args = TrainingArguments(\n",
        "    output_dir=training_dir,              # where to save model checkpoints\n",
        "    overwrite_output_dir=True,            # overwrite contents if the dir exists\n",
        "    num_train_epochs=2,                   # number of training epochs\n",
        "    learning_rate=2e-5,                   # Adam optimizer learning rate\n",
        "    per_device_train_batch_size=batch_size, # batch size per GPU/CPU during training\n",
        "    per_device_eval_batch_size=batch_size, # batch size per GPU/CPU during evaluation\n",
        "    weight_decay=0.01,                    # strength of weight decay regularization\n",
        "    eval_strategy=\"epoch\",          # run evaluation at the end of each epoch\n",
        "    disable_tqdm=False                    # whether to show progress bars\n",
        ")\n"
      ]
    },
    {
      "cell_type": "code",
      "execution_count": 20,
      "metadata": {},
      "outputs": [],
      "source": [
        "# Load the accuracy metric from Hugging Face's 'evaluate' library\n",
        "accuracy = evaluate.load(\"accuracy\")\n",
        "\n",
        "# Define a function to compute evaluation metrics\n",
        "def compute_metrics_evaluate(eval_pred):\n",
        "    # eval_pred is a tuple: (model_predictions, true_labels)\n",
        "    predictions, labels = eval_pred\n",
        "    \n",
        "    # Convert raw prediction logits → predicted class IDs\n",
        "    predictions = np.argmax(predictions, axis=1)\n",
        "    \n",
        "    # Compute accuracy by comparing predicted vs. true labels\n",
        "    return accuracy.compute(predictions=predictions, references=labels)"
      ]
    },
    {
      "cell_type": "code",
      "execution_count": 21,
      "metadata": {},
      "outputs": [
        {
          "data": {
            "text/plain": [
              "('4.55.3', '1.10.0')"
            ]
          },
          "execution_count": 21,
          "metadata": {},
          "output_type": "execute_result"
        }
      ],
      "source": [
        "import accelerate\n",
        "import transformers\n",
        "\n",
        "transformers.__version__, accelerate.__version__"
      ]
    },
    {
      "cell_type": "code",
      "execution_count": 22,
      "metadata": {},
      "outputs": [],
      "source": [
        "# use sklearn to build compute metrics\n",
        "\n",
        "\n",
        "from sklearn.metrics import accuracy_score, f1_score\n",
        "\n",
        "# Define a function to compute multiple evaluation metrics\n",
        "def compute_metrics(pred):\n",
        "    # Extract true labels and predicted logits\n",
        "    labels = pred.label_ids\n",
        "    preds = pred.predictions.argmax(-1)   # convert logits → predicted class IDs\n",
        "\n",
        "    # Compute weighted F1-score (accounts for class imbalance)\n",
        "    f1 = f1_score(labels, preds, average=\"weighted\")\n",
        "\n",
        "    # Compute accuracy (overall correct predictions)\n",
        "    acc = accuracy_score(labels, preds)\n",
        "\n",
        "    # Return both metrics in a dictionary\n",
        "    return {\n",
        "        \"accuracy\": acc,\n",
        "        \"f1\": f1\n",
        "    }\n",
        "\n"
      ]
    },
    {
      "cell_type": "markdown",
      "metadata": {},
      "source": [
        "## Build Model and Trainer"
      ]
    },
    {
      "cell_type": "code",
      "execution_count": 23,
      "metadata": {},
      "outputs": [
        {
          "name": "stderr",
          "output_type": "stream",
          "text": [
            "C:\\Users\\JITHIN\\AppData\\Local\\Temp\\ipykernel_30676\\1911620533.py:4: FutureWarning: `tokenizer` is deprecated and will be removed in version 5.0.0 for `Trainer.__init__`. Use `processing_class` instead.\n",
            "  trainer = Trainer(\n"
          ]
        }
      ],
      "source": [
        "from transformers import Trainer\n",
        "\n",
        "# Initialize the Hugging Face Trainer\n",
        "trainer = Trainer(\n",
        "    model=model,                        # the model to train (with classification head)\n",
        "    args=training_args,                 # training configuration (epochs, batch size, etc.)\n",
        "    compute_metrics=compute_metrics,    # function to compute evaluation metrics (accuracy, f1)\n",
        "    train_dataset=emotion_encoded['train'],   # tokenized training dataset\n",
        "    eval_dataset=emotion_encoded['validation'], # tokenized validation dataset\n",
        "    tokenizer=tokenizer                 # tokenizer (needed for saving/loading + padding info)\n",
        ")\n"
      ]
    },
    {
      "cell_type": "code",
      "execution_count": 24,
      "metadata": {},
      "outputs": [
        {
          "data": {
            "text/html": [
              "\n",
              "    <div>\n",
              "      \n",
              "      <progress value='350' max='350' style='width:300px; height:20px; vertical-align: middle;'></progress>\n",
              "      [350/350 08:22, Epoch 2/2]\n",
              "    </div>\n",
              "    <table border=\"1\" class=\"dataframe\">\n",
              "  <thead>\n",
              " <tr style=\"text-align: left;\">\n",
              "      <th>Epoch</th>\n",
              "      <th>Training Loss</th>\n",
              "      <th>Validation Loss</th>\n",
              "      <th>Accuracy</th>\n",
              "      <th>F1</th>\n",
              "    </tr>\n",
              "  </thead>\n",
              "  <tbody>\n",
              "    <tr>\n",
              "      <td>1</td>\n",
              "      <td>No log</td>\n",
              "      <td>0.411656</td>\n",
              "      <td>0.872500</td>\n",
              "      <td>0.863705</td>\n",
              "    </tr>\n",
              "    <tr>\n",
              "      <td>2</td>\n",
              "      <td>No log</td>\n",
              "      <td>0.242898</td>\n",
              "      <td>0.921250</td>\n",
              "      <td>0.920621</td>\n",
              "    </tr>\n",
              "  </tbody>\n",
              "</table><p>"
            ],
            "text/plain": [
              "<IPython.core.display.HTML object>"
            ]
          },
          "metadata": {},
          "output_type": "display_data"
        },
        {
          "data": {
            "text/plain": [
              "TrainOutput(global_step=350, training_loss=0.7093024117606027, metrics={'train_runtime': 503.9485, 'train_samples_per_second': 44.449, 'train_steps_per_second': 0.695, 'total_flos': 1001502421516800.0, 'train_loss': 0.7093024117606027, 'epoch': 2.0})"
            ]
          },
          "execution_count": 24,
          "metadata": {},
          "output_type": "execute_result"
        }
      ],
      "source": [
        "# Start training the model using the Trainer API\n",
        "# - Uses the training dataset (emotion_encoded['train'])\n",
        "# - Runs evaluation on the validation dataset after each epoch (as per training_args)\n",
        "# - Logs metrics like loss, accuracy, and f1\n",
        "trainer.train()"
      ]
    },
    {
      "cell_type": "markdown",
      "metadata": {},
      "source": [
        "## Model Evaluation"
      ]
    },
    {
      "cell_type": "code",
      "execution_count": 26,
      "metadata": {},
      "outputs": [
        {
          "data": {
            "text/html": [],
            "text/plain": [
              "<IPython.core.display.HTML object>"
            ]
          },
          "metadata": {},
          "output_type": "display_data"
        },
        {
          "name": "stdout",
          "output_type": "stream",
          "text": [
            "{'test_loss': 0.28809601068496704, 'test_accuracy': 0.8991666666666667, 'test_f1': 0.8987377356180104, 'test_runtime': 16.7573, 'test_samples_per_second': 143.221, 'test_steps_per_second': 2.268}\n"
          ]
        }
      ],
      "source": [
        "# Run prediction on the test dataset\n",
        "# This returns a PredictionOutput object containing:\n",
        "# - predictions (raw logits)\n",
        "# - label_ids (true labels)\n",
        "# - metrics (evaluation results like accuracy, f1)\n",
        "preds_output = trainer.predict(emotion_encoded['test'])\n",
        "\n",
        "# Print only the evaluation metrics (accuracy, f1, loss, etc.)\n",
        "print(preds_output.metrics)"
      ]
    },
    {
      "cell_type": "code",
      "execution_count": 27,
      "metadata": {
        "colab": {
          "base_uri": "https://localhost:8080/"
        },
        "id": "mli1PYvJty_F",
        "outputId": "6ddbff77-4d80-4551-821a-2882fe479048"
      },
      "outputs": [
        {
          "name": "stdout",
          "output_type": "stream",
          "text": [
            "Predicted labels: [1 4 0 0 3 3 1 1 2 0]\n",
            "True labels: [1, 4, 0, 0, 4, 3, 1, 1, 2, 0]\n"
          ]
        }
      ],
      "source": [
        "# Convert raw logits from model predictions into class IDs\n",
        "# - argmax(axis=1) picks the class with the highest probability for each sample\n",
        "y_pred = np.argmax(preds_output.predictions, axis=1)\n",
        "\n",
        "# Extract the true labels from the test dataset\n",
        "# - [:] means get all rows\n",
        "# - ['label'] selects the label column\n",
        "y_true = emotion_encoded['test'][:]['label']\n",
        "\n",
        "print(\"Predicted labels:\", y_pred[:10])  # show first 10 predictions\n",
        "print(\"True labels:\", y_true[:10])      # show first 10 true labels\n"
      ]
    },
    {
      "cell_type": "code",
      "execution_count": 30,
      "metadata": {
        "id": "2J7ZB6D-ty74"
      },
      "outputs": [
        {
          "name": "stdout",
          "output_type": "stream",
          "text": [
            "Classification Report:\n",
            "\n",
            "              precision    recall  f1-score   support\n",
            "\n",
            "           0       0.93      0.94      0.93       700\n",
            "           1       0.92      0.92      0.92       804\n",
            "           2       0.78      0.76      0.77       195\n",
            "           3       0.90      0.90      0.90       324\n",
            "           4       0.86      0.90      0.88       291\n",
            "           5       0.84      0.72      0.78        86\n",
            "\n",
            "    accuracy                           0.90      2400\n",
            "   macro avg       0.87      0.86      0.86      2400\n",
            "weighted avg       0.90      0.90      0.90      2400\n",
            "\n"
          ]
        }
      ],
      "source": [
        "# Generate a detailed classification report\n",
        "# Includes precision, recall, f1-score for each class\n",
        "# Also shows macro avg, weighted avg, and overall accuracy\n",
        "report = classification_report(y_true, y_pred)\n",
        "\n",
        "print(\"Classification Report:\\n\")\n",
        "print(report)\n"
      ]
    },
    {
      "cell_type": "code",
      "execution_count": 33,
      "metadata": {
        "id": "L4rR1dRFty1q"
      },
      "outputs": [
        {
          "data": {
            "image/png": "[encoded data removed]",
            "text/plain": [
              "<Figure size 500x500 with 1 Axes>"
            ]
          },
          "metadata": {},
          "output_type": "display_data"
        }
      ],
      "source": [
        "# Compute the confusion matrix\n",
        "cm = confusion_matrix(y_true, y_pred)\n",
        "\n",
        "# Plot the confusion matrix as a heatmap\n",
        "plt.figure(figsize=(5, 5))\n",
        "sns.heatmap(\n",
        "    cm,\n",
        "    annot=True,                         # show counts in each cell\n",
        "    fmt='d',                            # integer formatting\n",
        "    cmap='Reds',                        # red color map\n",
        "    cbar=False,                         # hide color bar\n",
        "    xticklabels=label2id.keys(),        # predicted labels\n",
        "    yticklabels=label2id.keys()         # actual labels\n",
        ")\n",
        "\n",
        "# Axis labels\n",
        "plt.ylabel(\"Actual\", fontsize=12)\n",
        "plt.xlabel(\"Predicted\", fontsize=12)\n",
        "plt.title(\"Confusion Matrix\", fontsize=14)\n",
        "\n",
        "plt.show()\n"
      ]
    },
    {
      "cell_type": "markdown",
      "metadata": {},
      "source": [
        "## Build Prediction Function and Store Model"
      ]
    },
    {
      "cell_type": "code",
      "execution_count": 34,
      "metadata": {
        "id": "sbm-vAL6tyy4"
      },
      "outputs": [
        {
          "name": "stdout",
          "output_type": "stream",
          "text": [
            "joy\n"
          ]
        }
      ],
      "source": [
        "def get_prediction(text):\n",
        "    # tokenize input and move tensors to device (CPU/GPU)\n",
        "    input_encoded = tokenizer(text, return_tensors='pt').to(device)\n",
        "\n",
        "    # run inference without computing gradients\n",
        "    with torch.no_grad():\n",
        "        outputs = model(**input_encoded)\n",
        "\n",
        "    # extract logits (raw scores for each class)\n",
        "    logits = outputs.logits\n",
        "\n",
        "    # take the index of the highest scoring class\n",
        "    pred = torch.argmax(logits, dim=1).item()\n",
        "\n",
        "    # map index back to human-readable label\n",
        "    return id2label[pred]\n",
        "\n",
        "# Example usage\n",
        "text = \"I am super happy today. I got it done. Finally!!\"\n",
        "print(get_prediction(text))"
      ]
    },
    {
      "cell_type": "code",
      "execution_count": 35,
      "metadata": {
        "colab": {
          "base_uri": "https://localhost:8080/",
          "height": 107
        },
        "id": "cenqUXXJtyvy",
        "outputId": "882da698-a3e6-42f3-85bd-4a9a98548b88"
      },
      "outputs": [],
      "source": [
        "# Save the fine-tuned model, tokenizer, and config files into the folder \n",
        "# \"bert-base-uncased-sentiment-model\" so it can be reloaded or shared later\n",
        "trainer.save_model(\"bert-base-uncased-sentiment-model\")\n",
        "\n"
      ]
    },
    {
      "cell_type": "code",
      "execution_count": 39,
      "metadata": {
        "colab": {
          "base_uri": "https://localhost:8080/",
          "height": 162
        },
        "id": "9jZjNDQ4tysu",
        "outputId": "5c641169-18e8-42a5-9b6a-5317546aa67d"
      },
      "outputs": [
        {
          "name": "stderr",
          "output_type": "stream",
          "text": [
            "Device set to use cuda:0\n"
          ]
        },
        {
          "name": "stdout",
          "output_type": "stream",
          "text": [
            "I am super happy today. I got it done. Finally!! ---> joy\n",
            "hello, how are you? ---> joy\n",
            "love you ---> love\n",
            "i am feeling low ---> sadness\n"
          ]
        }
      ],
      "source": [
        "# Load the fine-tuned model from the saved folder (\"bert-base-uncased-sentiment-model\") \n",
        "# and create a text-classification pipeline for sentiment prediction\n",
        "classifier = pipeline('text-classification', model='bert-base-uncased-sentiment-model')\n",
        "\n",
        "# Run predictions on multiple text inputs at once\n",
        "# The pipeline will return the predicted labels and confidence scores for each text\n",
        "sentences = [text, 'hello, how are you?', \"love you\", \"i am feeling low\"]\n",
        "for sent in sentences:\n",
        "    print(f'{sent} ---> {classifier(sent)[0]['label']}')\n",
        "\n"
      ]
    }
  ],
  "metadata": {
    "accelerator": "GPU",
    "colab": {
      "gpuType": "T4",
      "provenance": []
    },
    "kernelspec": {
      "display_name": "transformers (3.12.4)",
      "language": "python",
      "name": "python3"
    },
    "language_info": {
      "codemirror_mode": {
        "name": "ipython",
        "version": 3
      },
      "file_extension": ".py",
      "mimetype": "text/x-python",
      "name": "python",
      "nbconvert_exporter": "python",
      "pygments_lexer": "ipython3",
      "version": "3.12.4"
    },
    "widgets": {
      "application/vnd.jupyter.widget-state+json": {
        "055ecbe31cf841b49d397f6e69ff1536": {
          "model_module": "@jupyter-widgets/base",
          "model_module_version": "1.2.0",
          "model_name": "LayoutModel",
          "state": {
            "_model_module": "@jupyter-widgets/base",
            "_model_module_version": "1.2.0",
            "_model_name": "LayoutModel",
            "_view_count": null,
            "_view_module": "@jupyter-widgets/base",
            "_view_module_version": "1.2.0",
            "_view_name": "LayoutView",
            "align_content": null,
            "align_items": null,
            "align_self": null,
            "border": null,
            "bottom": null,
            "display": null,
            "flex": null,
            "flex_flow": null,
            "grid_area": null,
            "grid_auto_columns": null,
            "grid_auto_flow": null,
            "grid_auto_rows": null,
            "grid_column": null,
            "grid_gap": null,
            "grid_row": null,
            "grid_template_areas": null,
            "grid_template_columns": null,
            "grid_template_rows": null,
            "height": null,
            "justify_content": null,
            "justify_items": null,
            "left": null,
            "margin": null,
            "max_height": null,
            "max_width": null,
            "min_height": null,
            "min_width": null,
            "object_fit": null,
            "object_position": null,
            "order": null,
            "overflow": null,
            "overflow_x": null,
            "overflow_y": null,
            "padding": null,
            "right": null,
            "top": null,
            "visibility": null,
            "width": null
          }
        },
        "1324a31228f84552a7ae2bfc3f159144": {
          "model_module": "@jupyter-widgets/controls",
          "model_module_version": "1.5.0",
          "model_name": "ProgressStyleModel",
          "state": {
            "_model_module": "@jupyter-widgets/controls",
            "_model_module_version": "1.5.0",
            "_model_name": "ProgressStyleModel",
            "_view_count": null,
            "_view_module": "@jupyter-widgets/base",
            "_view_module_version": "1.2.0",
            "_view_name": "StyleView",
            "bar_color": null,
            "description_width": ""
          }
        },
        "16fbe926c60742be994dc541622932e8": {
          "model_module": "@jupyter-widgets/base",
          "model_module_version": "1.2.0",
          "model_name": "LayoutModel",
          "state": {
            "_model_module": "@jupyter-widgets/base",
            "_model_module_version": "1.2.0",
            "_model_name": "LayoutModel",
            "_view_count": null,
            "_view_module": "@jupyter-widgets/base",
            "_view_module_version": "1.2.0",
            "_view_name": "LayoutView",
            "align_content": null,
            "align_items": null,
            "align_self": null,
            "border": null,
            "bottom": null,
            "display": null,
            "flex": null,
            "flex_flow": null,
            "grid_area": null,
            "grid_auto_columns": null,
            "grid_auto_flow": null,
            "grid_auto_rows": null,
            "grid_column": null,
            "grid_gap": null,
            "grid_row": null,
            "grid_template_areas": null,
            "grid_template_columns": null,
            "grid_template_rows": null,
            "height": null,
            "justify_content": null,
            "justify_items": null,
            "left": null,
            "margin": null,
            "max_height": null,
            "max_width": null,
            "min_height": null,
            "min_width": null,
            "object_fit": null,
            "object_position": null,
            "order": null,
            "overflow": null,
            "overflow_x": null,
            "overflow_y": null,
            "padding": null,
            "right": null,
            "top": null,
            "visibility": null,
            "width": null
          }
        },
        "1c44678c843e4ab6aa7c938e8f2c4d83": {
          "model_module": "@jupyter-widgets/controls",
          "model_module_version": "1.5.0",
          "model_name": "HTMLModel",
          "state": {
            "_dom_classes": [],
            "_model_module": "@jupyter-widgets/controls",
            "_model_module_version": "1.5.0",
            "_model_name": "HTMLModel",
            "_view_count": null,
            "_view_module": "@jupyter-widgets/controls",
            "_view_module_version": "1.5.0",
            "_view_name": "HTMLView",
            "description": "",
            "description_tooltip": null,
            "layout": "IPY_MODEL_16fbe926c60742be994dc541622932e8",
            "placeholder": "​",
            "style": "IPY_MODEL_256f0d69962942efa57b185eafbe5459",
            "value": "Map: 100%"
          }
        },
        "1f058655a55b451280c52d1c37076d4e": {
          "model_module": "@jupyter-widgets/controls",
          "model_module_version": "1.5.0",
          "model_name": "FloatProgressModel",
          "state": {
            "_dom_classes": [],
            "_model_module": "@jupyter-widgets/controls",
            "_model_module_version": "1.5.0",
            "_model_name": "FloatProgressModel",
            "_view_count": null,
            "_view_module": "@jupyter-widgets/controls",
            "_view_module_version": "1.5.0",
            "_view_name": "ProgressView",
            "bar_style": "success",
            "description": "",
            "description_tooltip": null,
            "layout": "IPY_MODEL_419ac40746a14996b5ffa327d4de74b5",
            "max": 3200,
            "min": 0,
            "orientation": "horizontal",
            "style": "IPY_MODEL_c09bcf937e104c9c9ad63125c8daca33",
            "value": 3200
          }
        },
        "214b00c2807d4f30894b111fc0eb7826": {
          "model_module": "@jupyter-widgets/controls",
          "model_module_version": "1.5.0",
          "model_name": "HBoxModel",
          "state": {
            "_dom_classes": [],
            "_model_module": "@jupyter-widgets/controls",
            "_model_module_version": "1.5.0",
            "_model_name": "HBoxModel",
            "_view_count": null,
            "_view_module": "@jupyter-widgets/controls",
            "_view_module_version": "1.5.0",
            "_view_name": "HBoxView",
            "box_style": "",
            "children": [
              "IPY_MODEL_997a9e73bf33471892e0b9ea881c332f",
              "IPY_MODEL_23851ace733642e1a93e3a1fd276d9d5",
              "IPY_MODEL_8c1d274a91de401d813a95d53ba3fd84"
            ],
            "layout": "IPY_MODEL_43a0c7a929064ca481c75b8e9d1b5b93"
          }
        },
        "23851ace733642e1a93e3a1fd276d9d5": {
          "model_module": "@jupyter-widgets/controls",
          "model_module_version": "1.5.0",
          "model_name": "FloatProgressModel",
          "state": {
            "_dom_classes": [],
            "_model_module": "@jupyter-widgets/controls",
            "_model_module_version": "1.5.0",
            "_model_name": "FloatProgressModel",
            "_view_count": null,
            "_view_module": "@jupyter-widgets/controls",
            "_view_module_version": "1.5.0",
            "_view_name": "ProgressView",
            "bar_style": "success",
            "description": "",
            "description_tooltip": null,
            "layout": "IPY_MODEL_b2daa825167940c5aef1058aee3f3134",
            "max": 1423,
            "min": 0,
            "orientation": "horizontal",
            "style": "IPY_MODEL_ddc915d90d0445bdaa92e68809eb2c92",
            "value": 1423
          }
        },
        "256f0d69962942efa57b185eafbe5459": {
          "model_module": "@jupyter-widgets/controls",
          "model_module_version": "1.5.0",
          "model_name": "DescriptionStyleModel",
          "state": {
            "_model_module": "@jupyter-widgets/controls",
            "_model_module_version": "1.5.0",
            "_model_name": "DescriptionStyleModel",
            "_view_count": null,
            "_view_module": "@jupyter-widgets/base",
            "_view_module_version": "1.2.0",
            "_view_name": "StyleView",
            "description_width": ""
          }
        },
        "30d517192e6e46ffb23822cea1d07858": {
          "model_module": "@jupyter-widgets/controls",
          "model_module_version": "1.5.0",
          "model_name": "DescriptionStyleModel",
          "state": {
            "_model_module": "@jupyter-widgets/controls",
            "_model_module_version": "1.5.0",
            "_model_name": "DescriptionStyleModel",
            "_view_count": null,
            "_view_module": "@jupyter-widgets/base",
            "_view_module_version": "1.2.0",
            "_view_name": "StyleView",
            "description_width": ""
          }
        },
        "35beb988a16b44b18f912a05b01a7c63": {
          "model_module": "@jupyter-widgets/base",
          "model_module_version": "1.2.0",
          "model_name": "LayoutModel",
          "state": {
            "_model_module": "@jupyter-widgets/base",
            "_model_module_version": "1.2.0",
            "_model_name": "LayoutModel",
            "_view_count": null,
            "_view_module": "@jupyter-widgets/base",
            "_view_module_version": "1.2.0",
            "_view_name": "LayoutView",
            "align_content": null,
            "align_items": null,
            "align_self": null,
            "border": null,
            "bottom": null,
            "display": null,
            "flex": null,
            "flex_flow": null,
            "grid_area": null,
            "grid_auto_columns": null,
            "grid_auto_flow": null,
            "grid_auto_rows": null,
            "grid_column": null,
            "grid_gap": null,
            "grid_row": null,
            "grid_template_areas": null,
            "grid_template_columns": null,
            "grid_template_rows": null,
            "height": null,
            "justify_content": null,
            "justify_items": null,
            "left": null,
            "margin": null,
            "max_height": null,
            "max_width": null,
            "min_height": null,
            "min_width": null,
            "object_fit": null,
            "object_position": null,
            "order": null,
            "overflow": null,
            "overflow_x": null,
            "overflow_y": null,
            "padding": null,
            "right": null,
            "top": null,
            "visibility": null,
            "width": null
          }
        },
        "40a784b0798f4259826b3e3e74a483bd": {
          "model_module": "@jupyter-widgets/controls",
          "model_module_version": "1.5.0",
          "model_name": "HTMLModel",
          "state": {
            "_dom_classes": [],
            "_model_module": "@jupyter-widgets/controls",
            "_model_module_version": "1.5.0",
            "_model_name": "HTMLModel",
            "_view_count": null,
            "_view_module": "@jupyter-widgets/controls",
            "_view_module_version": "1.5.0",
            "_view_name": "HTMLView",
            "description": "",
            "description_tooltip": null,
            "layout": "IPY_MODEL_aec9828c09094b019076065d520f2deb",
            "placeholder": "​",
            "style": "IPY_MODEL_b6ca842c1f1c43198e4d9336eb3fcfdc",
            "value": " 11377/11377 [00:01&lt;00:00, 6617.73 examples/s]"
          }
        },
        "4122937090444eecae0c9841989e6a28": {
          "model_module": "@jupyter-widgets/base",
          "model_module_version": "1.2.0",
          "model_name": "LayoutModel",
          "state": {
            "_model_module": "@jupyter-widgets/base",
            "_model_module_version": "1.2.0",
            "_model_name": "LayoutModel",
            "_view_count": null,
            "_view_module": "@jupyter-widgets/base",
            "_view_module_version": "1.2.0",
            "_view_name": "LayoutView",
            "align_content": null,
            "align_items": null,
            "align_self": null,
            "border": null,
            "bottom": null,
            "display": null,
            "flex": null,
            "flex_flow": null,
            "grid_area": null,
            "grid_auto_columns": null,
            "grid_auto_flow": null,
            "grid_auto_rows": null,
            "grid_column": null,
            "grid_gap": null,
            "grid_row": null,
            "grid_template_areas": null,
            "grid_template_columns": null,
            "grid_template_rows": null,
            "height": null,
            "justify_content": null,
            "justify_items": null,
            "left": null,
            "margin": null,
            "max_height": null,
            "max_width": null,
            "min_height": null,
            "min_width": null,
            "object_fit": null,
            "object_position": null,
            "order": null,
            "overflow": null,
            "overflow_x": null,
            "overflow_y": null,
            "padding": null,
            "right": null,
            "top": null,
            "visibility": null,
            "width": null
          }
        },
        "419ac40746a14996b5ffa327d4de74b5": {
          "model_module": "@jupyter-widgets/base",
          "model_module_version": "1.2.0",
          "model_name": "LayoutModel",
          "state": {
            "_model_module": "@jupyter-widgets/base",
            "_model_module_version": "1.2.0",
            "_model_name": "LayoutModel",
            "_view_count": null,
            "_view_module": "@jupyter-widgets/base",
            "_view_module_version": "1.2.0",
            "_view_name": "LayoutView",
            "align_content": null,
            "align_items": null,
            "align_self": null,
            "border": null,
            "bottom": null,
            "display": null,
            "flex": null,
            "flex_flow": null,
            "grid_area": null,
            "grid_auto_columns": null,
            "grid_auto_flow": null,
            "grid_auto_rows": null,
            "grid_column": null,
            "grid_gap": null,
            "grid_row": null,
            "grid_template_areas": null,
            "grid_template_columns": null,
            "grid_template_rows": null,
            "height": null,
            "justify_content": null,
            "justify_items": null,
            "left": null,
            "margin": null,
            "max_height": null,
            "max_width": null,
            "min_height": null,
            "min_width": null,
            "object_fit": null,
            "object_position": null,
            "order": null,
            "overflow": null,
            "overflow_x": null,
            "overflow_y": null,
            "padding": null,
            "right": null,
            "top": null,
            "visibility": null,
            "width": null
          }
        },
        "43a0c7a929064ca481c75b8e9d1b5b93": {
          "model_module": "@jupyter-widgets/base",
          "model_module_version": "1.2.0",
          "model_name": "LayoutModel",
          "state": {
            "_model_module": "@jupyter-widgets/base",
            "_model_module_version": "1.2.0",
            "_model_name": "LayoutModel",
            "_view_count": null,
            "_view_module": "@jupyter-widgets/base",
            "_view_module_version": "1.2.0",
            "_view_name": "LayoutView",
            "align_content": null,
            "align_items": null,
            "align_self": null,
            "border": null,
            "bottom": null,
            "display": null,
            "flex": null,
            "flex_flow": null,
            "grid_area": null,
            "grid_auto_columns": null,
            "grid_auto_flow": null,
            "grid_auto_rows": null,
            "grid_column": null,
            "grid_gap": null,
            "grid_row": null,
            "grid_template_areas": null,
            "grid_template_columns": null,
            "grid_template_rows": null,
            "height": null,
            "justify_content": null,
            "justify_items": null,
            "left": null,
            "margin": null,
            "max_height": null,
            "max_width": null,
            "min_height": null,
            "min_width": null,
            "object_fit": null,
            "object_position": null,
            "order": null,
            "overflow": null,
            "overflow_x": null,
            "overflow_y": null,
            "padding": null,
            "right": null,
            "top": null,
            "visibility": null,
            "width": null
          }
        },
        "48e91b0d186e4c2696e4f3f890b5c289": {
          "model_module": "@jupyter-widgets/base",
          "model_module_version": "1.2.0",
          "model_name": "LayoutModel",
          "state": {
            "_model_module": "@jupyter-widgets/base",
            "_model_module_version": "1.2.0",
            "_model_name": "LayoutModel",
            "_view_count": null,
            "_view_module": "@jupyter-widgets/base",
            "_view_module_version": "1.2.0",
            "_view_name": "LayoutView",
            "align_content": null,
            "align_items": null,
            "align_self": null,
            "border": null,
            "bottom": null,
            "display": null,
            "flex": null,
            "flex_flow": null,
            "grid_area": null,
            "grid_auto_columns": null,
            "grid_auto_flow": null,
            "grid_auto_rows": null,
            "grid_column": null,
            "grid_gap": null,
            "grid_row": null,
            "grid_template_areas": null,
            "grid_template_columns": null,
            "grid_template_rows": null,
            "height": null,
            "justify_content": null,
            "justify_items": null,
            "left": null,
            "margin": null,
            "max_height": null,
            "max_width": null,
            "min_height": null,
            "min_width": null,
            "object_fit": null,
            "object_position": null,
            "order": null,
            "overflow": null,
            "overflow_x": null,
            "overflow_y": null,
            "padding": null,
            "right": null,
            "top": null,
            "visibility": null,
            "width": null
          }
        },
        "4ac700eb959e4dfda130c5cc5d262015": {
          "model_module": "@jupyter-widgets/controls",
          "model_module_version": "1.5.0",
          "model_name": "HTMLModel",
          "state": {
            "_dom_classes": [],
            "_model_module": "@jupyter-widgets/controls",
            "_model_module_version": "1.5.0",
            "_model_name": "HTMLModel",
            "_view_count": null,
            "_view_module": "@jupyter-widgets/controls",
            "_view_module_version": "1.5.0",
            "_view_name": "HTMLView",
            "description": "",
            "description_tooltip": null,
            "layout": "IPY_MODEL_35beb988a16b44b18f912a05b01a7c63",
            "placeholder": "​",
            "style": "IPY_MODEL_5de83fca058143d39ffef3ca9586d354",
            "value": " 3200/3200 [00:00&lt;00:00, 7593.44 examples/s]"
          }
        },
        "5de83fca058143d39ffef3ca9586d354": {
          "model_module": "@jupyter-widgets/controls",
          "model_module_version": "1.5.0",
          "model_name": "DescriptionStyleModel",
          "state": {
            "_model_module": "@jupyter-widgets/controls",
            "_model_module_version": "1.5.0",
            "_model_name": "DescriptionStyleModel",
            "_view_count": null,
            "_view_module": "@jupyter-widgets/base",
            "_view_module_version": "1.2.0",
            "_view_name": "StyleView",
            "description_width": ""
          }
        },
        "6f9fc73ceaac4bb28c735ca503062cef": {
          "model_module": "@jupyter-widgets/controls",
          "model_module_version": "1.5.0",
          "model_name": "FloatProgressModel",
          "state": {
            "_dom_classes": [],
            "_model_module": "@jupyter-widgets/controls",
            "_model_module_version": "1.5.0",
            "_model_name": "FloatProgressModel",
            "_view_count": null,
            "_view_module": "@jupyter-widgets/controls",
            "_view_module_version": "1.5.0",
            "_view_name": "ProgressView",
            "bar_style": "success",
            "description": "",
            "description_tooltip": null,
            "layout": "IPY_MODEL_48e91b0d186e4c2696e4f3f890b5c289",
            "max": 11377,
            "min": 0,
            "orientation": "horizontal",
            "style": "IPY_MODEL_1324a31228f84552a7ae2bfc3f159144",
            "value": 11377
          }
        },
        "7f53bfd0a3724d81ae615ac93db9463a": {
          "model_module": "@jupyter-widgets/controls",
          "model_module_version": "1.5.0",
          "model_name": "HBoxModel",
          "state": {
            "_dom_classes": [],
            "_model_module": "@jupyter-widgets/controls",
            "_model_module_version": "1.5.0",
            "_model_name": "HBoxModel",
            "_view_count": null,
            "_view_module": "@jupyter-widgets/controls",
            "_view_module_version": "1.5.0",
            "_view_name": "HBoxView",
            "box_style": "",
            "children": [
              "IPY_MODEL_1c44678c843e4ab6aa7c938e8f2c4d83",
              "IPY_MODEL_6f9fc73ceaac4bb28c735ca503062cef",
              "IPY_MODEL_40a784b0798f4259826b3e3e74a483bd"
            ],
            "layout": "IPY_MODEL_4122937090444eecae0c9841989e6a28"
          }
        },
        "8c1d274a91de401d813a95d53ba3fd84": {
          "model_module": "@jupyter-widgets/controls",
          "model_module_version": "1.5.0",
          "model_name": "HTMLModel",
          "state": {
            "_dom_classes": [],
            "_model_module": "@jupyter-widgets/controls",
            "_model_module_version": "1.5.0",
            "_model_name": "HTMLModel",
            "_view_count": null,
            "_view_module": "@jupyter-widgets/controls",
            "_view_module_version": "1.5.0",
            "_view_name": "HTMLView",
            "description": "",
            "description_tooltip": null,
            "layout": "IPY_MODEL_e9534494314b425d8fc3c4b7b29a083a",
            "placeholder": "​",
            "style": "IPY_MODEL_e47e075fefcc4f0893b36d10a3b12f6e",
            "value": " 1423/1423 [00:00&lt;00:00, 7167.29 examples/s]"
          }
        },
        "919d271a958a4d9c9e8c677ca0da5c63": {
          "model_module": "@jupyter-widgets/base",
          "model_module_version": "1.2.0",
          "model_name": "LayoutModel",
          "state": {
            "_model_module": "@jupyter-widgets/base",
            "_model_module_version": "1.2.0",
            "_model_name": "LayoutModel",
            "_view_count": null,
            "_view_module": "@jupyter-widgets/base",
            "_view_module_version": "1.2.0",
            "_view_name": "LayoutView",
            "align_content": null,
            "align_items": null,
            "align_self": null,
            "border": null,
            "bottom": null,
            "display": null,
            "flex": null,
            "flex_flow": null,
            "grid_area": null,
            "grid_auto_columns": null,
            "grid_auto_flow": null,
            "grid_auto_rows": null,
            "grid_column": null,
            "grid_gap": null,
            "grid_row": null,
            "grid_template_areas": null,
            "grid_template_columns": null,
            "grid_template_rows": null,
            "height": null,
            "justify_content": null,
            "justify_items": null,
            "left": null,
            "margin": null,
            "max_height": null,
            "max_width": null,
            "min_height": null,
            "min_width": null,
            "object_fit": null,
            "object_position": null,
            "order": null,
            "overflow": null,
            "overflow_x": null,
            "overflow_y": null,
            "padding": null,
            "right": null,
            "top": null,
            "visibility": null,
            "width": null
          }
        },
        "95b8ec618e63478ba97091be2a0e576f": {
          "model_module": "@jupyter-widgets/controls",
          "model_module_version": "1.5.0",
          "model_name": "DescriptionStyleModel",
          "state": {
            "_model_module": "@jupyter-widgets/controls",
            "_model_module_version": "1.5.0",
            "_model_name": "DescriptionStyleModel",
            "_view_count": null,
            "_view_module": "@jupyter-widgets/base",
            "_view_module_version": "1.2.0",
            "_view_name": "StyleView",
            "description_width": ""
          }
        },
        "997a9e73bf33471892e0b9ea881c332f": {
          "model_module": "@jupyter-widgets/controls",
          "model_module_version": "1.5.0",
          "model_name": "HTMLModel",
          "state": {
            "_dom_classes": [],
            "_model_module": "@jupyter-widgets/controls",
            "_model_module_version": "1.5.0",
            "_model_name": "HTMLModel",
            "_view_count": null,
            "_view_module": "@jupyter-widgets/controls",
            "_view_module_version": "1.5.0",
            "_view_name": "HTMLView",
            "description": "",
            "description_tooltip": null,
            "layout": "IPY_MODEL_919d271a958a4d9c9e8c677ca0da5c63",
            "placeholder": "​",
            "style": "IPY_MODEL_30d517192e6e46ffb23822cea1d07858",
            "value": "Map: 100%"
          }
        },
        "aec9828c09094b019076065d520f2deb": {
          "model_module": "@jupyter-widgets/base",
          "model_module_version": "1.2.0",
          "model_name": "LayoutModel",
          "state": {
            "_model_module": "@jupyter-widgets/base",
            "_model_module_version": "1.2.0",
            "_model_name": "LayoutModel",
            "_view_count": null,
            "_view_module": "@jupyter-widgets/base",
            "_view_module_version": "1.2.0",
            "_view_name": "LayoutView",
            "align_content": null,
            "align_items": null,
            "align_self": null,
            "border": null,
            "bottom": null,
            "display": null,
            "flex": null,
            "flex_flow": null,
            "grid_area": null,
            "grid_auto_columns": null,
            "grid_auto_flow": null,
            "grid_auto_rows": null,
            "grid_column": null,
            "grid_gap": null,
            "grid_row": null,
            "grid_template_areas": null,
            "grid_template_columns": null,
            "grid_template_rows": null,
            "height": null,
            "justify_content": null,
            "justify_items": null,
            "left": null,
            "margin": null,
            "max_height": null,
            "max_width": null,
            "min_height": null,
            "min_width": null,
            "object_fit": null,
            "object_position": null,
            "order": null,
            "overflow": null,
            "overflow_x": null,
            "overflow_y": null,
            "padding": null,
            "right": null,
            "top": null,
            "visibility": null,
            "width": null
          }
        },
        "b1f8d00baab948d2bc251c90a07bdf7e": {
          "model_module": "@jupyter-widgets/controls",
          "model_module_version": "1.5.0",
          "model_name": "HTMLModel",
          "state": {
            "_dom_classes": [],
            "_model_module": "@jupyter-widgets/controls",
            "_model_module_version": "1.5.0",
            "_model_name": "HTMLModel",
            "_view_count": null,
            "_view_module": "@jupyter-widgets/controls",
            "_view_module_version": "1.5.0",
            "_view_name": "HTMLView",
            "description": "",
            "description_tooltip": null,
            "layout": "IPY_MODEL_e8db3f06b38a41ff864c4ee95dd3137d",
            "placeholder": "​",
            "style": "IPY_MODEL_95b8ec618e63478ba97091be2a0e576f",
            "value": "Map: 100%"
          }
        },
        "b2daa825167940c5aef1058aee3f3134": {
          "model_module": "@jupyter-widgets/base",
          "model_module_version": "1.2.0",
          "model_name": "LayoutModel",
          "state": {
            "_model_module": "@jupyter-widgets/base",
            "_model_module_version": "1.2.0",
            "_model_name": "LayoutModel",
            "_view_count": null,
            "_view_module": "@jupyter-widgets/base",
            "_view_module_version": "1.2.0",
            "_view_name": "LayoutView",
            "align_content": null,
            "align_items": null,
            "align_self": null,
            "border": null,
            "bottom": null,
            "display": null,
            "flex": null,
            "flex_flow": null,
            "grid_area": null,
            "grid_auto_columns": null,
            "grid_auto_flow": null,
            "grid_auto_rows": null,
            "grid_column": null,
            "grid_gap": null,
            "grid_row": null,
            "grid_template_areas": null,
            "grid_template_columns": null,
            "grid_template_rows": null,
            "height": null,
            "justify_content": null,
            "justify_items": null,
            "left": null,
            "margin": null,
            "max_height": null,
            "max_width": null,
            "min_height": null,
            "min_width": null,
            "object_fit": null,
            "object_position": null,
            "order": null,
            "overflow": null,
            "overflow_x": null,
            "overflow_y": null,
            "padding": null,
            "right": null,
            "top": null,
            "visibility": null,
            "width": null
          }
        },
        "b6ca842c1f1c43198e4d9336eb3fcfdc": {
          "model_module": "@jupyter-widgets/controls",
          "model_module_version": "1.5.0",
          "model_name": "DescriptionStyleModel",
          "state": {
            "_model_module": "@jupyter-widgets/controls",
            "_model_module_version": "1.5.0",
            "_model_name": "DescriptionStyleModel",
            "_view_count": null,
            "_view_module": "@jupyter-widgets/base",
            "_view_module_version": "1.2.0",
            "_view_name": "StyleView",
            "description_width": ""
          }
        },
        "c09bcf937e104c9c9ad63125c8daca33": {
          "model_module": "@jupyter-widgets/controls",
          "model_module_version": "1.5.0",
          "model_name": "ProgressStyleModel",
          "state": {
            "_model_module": "@jupyter-widgets/controls",
            "_model_module_version": "1.5.0",
            "_model_name": "ProgressStyleModel",
            "_view_count": null,
            "_view_module": "@jupyter-widgets/base",
            "_view_module_version": "1.2.0",
            "_view_name": "StyleView",
            "bar_color": null,
            "description_width": ""
          }
        },
        "cb16de3f5057446fa405b21532e3850d": {
          "model_module": "@jupyter-widgets/controls",
          "model_module_version": "1.5.0",
          "model_name": "HBoxModel",
          "state": {
            "_dom_classes": [],
            "_model_module": "@jupyter-widgets/controls",
            "_model_module_version": "1.5.0",
            "_model_name": "HBoxModel",
            "_view_count": null,
            "_view_module": "@jupyter-widgets/controls",
            "_view_module_version": "1.5.0",
            "_view_name": "HBoxView",
            "box_style": "",
            "children": [
              "IPY_MODEL_b1f8d00baab948d2bc251c90a07bdf7e",
              "IPY_MODEL_1f058655a55b451280c52d1c37076d4e",
              "IPY_MODEL_4ac700eb959e4dfda130c5cc5d262015"
            ],
            "layout": "IPY_MODEL_055ecbe31cf841b49d397f6e69ff1536"
          }
        },
        "ddc915d90d0445bdaa92e68809eb2c92": {
          "model_module": "@jupyter-widgets/controls",
          "model_module_version": "1.5.0",
          "model_name": "ProgressStyleModel",
          "state": {
            "_model_module": "@jupyter-widgets/controls",
            "_model_module_version": "1.5.0",
            "_model_name": "ProgressStyleModel",
            "_view_count": null,
            "_view_module": "@jupyter-widgets/base",
            "_view_module_version": "1.2.0",
            "_view_name": "StyleView",
            "bar_color": null,
            "description_width": ""
          }
        },
        "e47e075fefcc4f0893b36d10a3b12f6e": {
          "model_module": "@jupyter-widgets/controls",
          "model_module_version": "1.5.0",
          "model_name": "DescriptionStyleModel",
          "state": {
            "_model_module": "@jupyter-widgets/controls",
            "_model_module_version": "1.5.0",
            "_model_name": "DescriptionStyleModel",
            "_view_count": null,
            "_view_module": "@jupyter-widgets/base",
            "_view_module_version": "1.2.0",
            "_view_name": "StyleView",
            "description_width": ""
          }
        },
        "e8db3f06b38a41ff864c4ee95dd3137d": {
          "model_module": "@jupyter-widgets/base",
          "model_module_version": "1.2.0",
          "model_name": "LayoutModel",
          "state": {
            "_model_module": "@jupyter-widgets/base",
            "_model_module_version": "1.2.0",
            "_model_name": "LayoutModel",
            "_view_count": null,
            "_view_module": "@jupyter-widgets/base",
            "_view_module_version": "1.2.0",
            "_view_name": "LayoutView",
            "align_content": null,
            "align_items": null,
            "align_self": null,
            "border": null,
            "bottom": null,
            "display": null,
            "flex": null,
            "flex_flow": null,
            "grid_area": null,
            "grid_auto_columns": null,
            "grid_auto_flow": null,
            "grid_auto_rows": null,
            "grid_column": null,
            "grid_gap": null,
            "grid_row": null,
            "grid_template_areas": null,
            "grid_template_columns": null,
            "grid_template_rows": null,
            "height": null,
            "justify_content": null,
            "justify_items": null,
            "left": null,
            "margin": null,
            "max_height": null,
            "max_width": null,
            "min_height": null,
            "min_width": null,
            "object_fit": null,
            "object_position": null,
            "order": null,
            "overflow": null,
            "overflow_x": null,
            "overflow_y": null,
            "padding": null,
            "right": null,
            "top": null,
            "visibility": null,
            "width": null
          }
        },
        "e9534494314b425d8fc3c4b7b29a083a": {
          "model_module": "@jupyter-widgets/base",
          "model_module_version": "1.2.0",
          "model_name": "LayoutModel",
          "state": {
            "_model_module": "@jupyter-widgets/base",
            "_model_module_version": "1.2.0",
            "_model_name": "LayoutModel",
            "_view_count": null,
            "_view_module": "@jupyter-widgets/base",
            "_view_module_version": "1.2.0",
            "_view_name": "LayoutView",
            "align_content": null,
            "align_items": null,
            "align_self": null,
            "border": null,
            "bottom": null,
            "display": null,
            "flex": null,
            "flex_flow": null,
            "grid_area": null,
            "grid_auto_columns": null,
            "grid_auto_flow": null,
            "grid_auto_rows": null,
            "grid_column": null,
            "grid_gap": null,
            "grid_row": null,
            "grid_template_areas": null,
            "grid_template_columns": null,
            "grid_template_rows": null,
            "height": null,
            "justify_content": null,
            "justify_items": null,
            "left": null,
            "margin": null,
            "max_height": null,
            "max_width": null,
            "min_height": null,
            "min_width": null,
            "object_fit": null,
            "object_position": null,
            "order": null,
            "overflow": null,
            "overflow_x": null,
            "overflow_y": null,
            "padding": null,
            "right": null,
            "top": null,
            "visibility": null,
            "width": null
          }
        }
      }
    }
  },
  "nbformat": 4,
  "nbformat_minor": 0
}
